{
 "cells": [
  {
   "cell_type": "markdown",
   "metadata": {},
   "source": [
    "### 円周率\n",
    "* 直径は1になる円の円周\n",
    "* π =3.14159265359...\n",
    "\n",
    "### ネイピア数\n",
    "* 自然対数の底 \n",
    "* e = 1/n!の合計(0<n<♾) = 2.71828...\n",
    "\n",
    "### 指数関数\n",
    "* 有名な指数関数はジグモイド関数がある\n",
    "\n",
    "### 対数関数\n",
    "* log は底数が10\n",
    "* ln は底数がe\n",
    "* log2 は底数が2\n",
    "* log1 = 0\n",
    "\n",
    "### 三角関数\n",
    "* sin正弦\n",
    "* cos余弦\n",
    "* tan正接\n",
    "* tanθ =sinθ/consθ\n",
    "\n",
    "### 双曲線関数\n",
    "### ベクトル\n",
    "### ノルム\n",
    "### ユークリッド距離\n",
    "### マンハッタン距離\n",
    "### 内積\n",
    "### 単位行列\n",
    "### 微分と積分\n",
    "### 原始関数と導関数\n",
    "### 確率\n",
    "### 相関係数\n",
    "### 条件付き確率\n",
    "### ベイズの定理\n",
    "### 一様分布\n",
    "### 正規分布"
   ]
  },
  {
   "cell_type": "code",
   "execution_count": null,
   "metadata": {},
   "outputs": [],
   "source": []
  }
 ],
 "metadata": {
  "kernelspec": {
   "display_name": "Python 3",
   "language": "python",
   "name": "python3"
  },
  "language_info": {
   "codemirror_mode": {
    "name": "ipython",
    "version": 3
   },
   "file_extension": ".py",
   "mimetype": "text/x-python",
   "name": "python",
   "nbconvert_exporter": "python",
   "pygments_lexer": "ipython3",
   "version": "3.6.8"
  }
 },
 "nbformat": 4,
 "nbformat_minor": 2
}
