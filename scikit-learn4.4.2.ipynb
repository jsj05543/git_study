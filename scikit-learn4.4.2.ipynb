{
 "cells": [
  {
   "cell_type": "markdown",
   "metadata": {},
   "source": [
    "## 4.4.1 分類"
   ]
  },
  {
   "cell_type": "markdown",
   "metadata": {},
   "source": [
    "- サポートベクタマシン\n",
    "- 決定木\n",
    "- ランダムフォレスト"
   ]
  },
  {
   "cell_type": "markdown",
   "metadata": {},
   "source": [
    "### 分類モデル構築の流れ\n",
    "- データセットを取得 ->学習データセットとテストデータセットの分割 -> 学習データセットの学習 -> テストデータセットの予測 -> 予測結果"
   ]
  },
  {
   "cell_type": "code",
   "execution_count": 12,
   "metadata": {},
   "outputs": [
    {
     "name": "stdout",
     "output_type": "stream",
     "text": [
      "X:\n",
      "[[5.1 3.5 1.4 0.2]\n",
      " [4.9 3.  1.4 0.2]\n",
      " [4.7 3.2 1.3 0.2]\n",
      " [4.6 3.1 1.5 0.2]\n",
      " [5.  3.6 1.4 0.2]]\n",
      "y:\n",
      "[0 0 0 0 0]\n"
     ]
    }
   ],
   "source": [
    "# データセットの準備\n",
    "from sklearn.datasets import load_iris\n",
    "\n",
    "# Irisデータセットの読み込み\n",
    "iris = load_iris()\n",
    "x, y = iris.data, iris.target\n",
    "\n",
    "#　頭５行を表示\n",
    "print('X:')\n",
    "print(x[:5,:])\n",
    "print('y:')\n",
    "print(y[:5])"
   ]
  },
  {
   "cell_type": "code",
   "execution_count": 14,
   "metadata": {},
   "outputs": [
    {
     "name": "stdout",
     "output_type": "stream",
     "text": [
      "(105, 4)\n",
      "(45, 4)\n",
      "(105,)\n",
      "(45,)\n"
     ]
    }
   ],
   "source": [
    "from sklearn.model_selection import train_test_split\n",
    "\n",
    "# 学習データセットとテストデータセットに分割\n",
    "x_train, x_test,y_train,y_test = train_test_split(x,y,test_size=0.3,random_state=123)\n",
    "print(x_train.shape)\n",
    "print(x_test.shape)\n",
    "print(y_train.shape)\n",
    "print(y_test.shape)"
   ]
  },
  {
   "cell_type": "markdown",
   "metadata": {},
   "source": [
    "### サポートベクタマシン\n",
    "- カーネル\n",
    "- 決定境界\n",
    "- サポートベクタ\n",
    "- マージン"
   ]
  },
  {
   "cell_type": "code",
   "execution_count": 18,
   "metadata": {},
   "outputs": [
    {
     "data": {
      "image/png": "[encoded data removed]",
      "text/plain": [
       "<Figure size 432x288 with 1 Axes>"
      ]
     },
     "metadata": {},
     "output_type": "display_data"
    }
   ],
   "source": [
    "import numpy as np\n",
    "import matplotlib.pyplot as plt\n",
    "np.random.seed(123)\n",
    "\n",
    "# X軸Y軸共に0から１までの一様分布から100点をサンプリング\n",
    "x0 = np.random.uniform(size=(100,2))\n",
    "# クラス0のラベルを100個生成\n",
    "y0 = np.repeat(0,100)\n",
    "# X軸Y軸共に-1から0までの一様分布から100点をサンプリング\n",
    "x1 = np.random.uniform(-1.0,0.0,size=(100,2))\n",
    "# クラス0のラベルを100個生成\n",
    "y1 = np.repeat(1,100)\n",
    "\n",
    "# 散布図にプロット\n",
    "fig, ax = plt.subplots()\n",
    "ax.scatter(x0[:,0],x0[:,1],marker='o',label='class 0')\n",
    "ax.scatter(x1[:,0],x1[:,1],marker='x',label='class 1')\n",
    "\n",
    "ax.set_xlabel('x')\n",
    "ax.set_ylabel('y')\n",
    "ax.legend()\n",
    "plt.show()\n"
   ]
  },
  {
   "cell_type": "code",
   "execution_count": null,
   "metadata": {},
   "outputs": [],
   "source": []
  }
 ],
 "metadata": {
  "kernelspec": {
   "display_name": "Python 3",
   "language": "python",
   "name": "python3"
  },
  "language_info": {
   "codemirror_mode": {
    "name": "ipython",
    "version": 3
   },
   "file_extension": ".py",
   "mimetype": "text/x-python",
   "name": "python",
   "nbconvert_exporter": "python",
   "pygments_lexer": "ipython3",
   "version": "3.6.8"
  }
 },
 "nbformat": 4,
 "nbformat_minor": 2
}
