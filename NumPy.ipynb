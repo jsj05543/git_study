{
 "cells": [
  {
   "cell_type": "markdown",
   "metadata": {},
   "source": [
    "# 4.1 NumPy"
   ]
  },
  {
   "cell_type": "markdown",
   "metadata": {},
   "source": [
    "## 4.1.1 NumPyの概要\n",
    "## 4.1.2 NumPyでデータを扱う"
   ]
  },
  {
   "cell_type": "markdown",
   "metadata": {},
   "source": [
    "### １次元配列、\n",
    "### ２次元配列、\n",
    "### 変形(reshape)、\n",
    "### データ(dtype)、\n",
    "### インデックスとスライス、\n",
    "### データ再代入、\n",
    "### 深いコピー(コピーを返す)(Shallow Copy)[Python標準リストのスライス、flattenメソッド、copy()で代入]\n",
    "### 浅いコピー(参照を返す)(Deep Copy)[Numpyのスライス、ravelメソッド 、直接代入]"
   ]
  },
  {
   "cell_type": "code",
   "execution_count": 7,
   "metadata": {},
   "outputs": [
    {
     "name": "stdout",
     "output_type": "stream",
     "text": [
      "[1 2 3]\n"
     ]
    },
    {
     "data": {
      "text/plain": [
       "array([1, 5, 4])"
      ]
     },
     "execution_count": 7,
     "metadata": {},
     "output_type": "execute_result"
    }
   ],
   "source": [
    "import numpy as np\n",
    "a = np.array([1,2,3])\n",
    "# スペース区切り、配列として出力\n",
    "print(a)\n",
    "# オブジェクト確認\n",
    "type(a)\n",
    "# 要素確認\n",
    "a.shape\n",
    "a[0]\n",
    "a[1:]\n",
    "a[-3]\n",
    "a\n",
    "a[2]=4\n",
    "a\n",
    "a1 =a\n",
    "a1\n",
    "a1[1]=5\n",
    "a1\n",
    "a1\n",
    "a2=a.copy()\n",
    "a2[1]=6\n",
    "a2\n",
    "a"
   ]
  },
  {
   "cell_type": "code",
   "execution_count": 8,
   "metadata": {},
   "outputs": [
    {
     "name": "stdout",
     "output_type": "stream",
     "text": [
      "[[1 2 3]\n",
      " [4 5 6]]\n"
     ]
    },
    {
     "data": {
      "text/plain": [
       "array([[1, 2, 8],\n",
       "       [4, 5, 8]])"
      ]
     },
     "execution_count": 8,
     "metadata": {},
     "output_type": "execute_result"
    }
   ],
   "source": [
    "b = np.array([[1,2,3],[4,5,6]])\n",
    "# スペース区切り、配列として出力\n",
    "print(b)\n",
    "# オブジェクト確認\n",
    "type(b)\n",
    "# 要素確認\n",
    "b.shape\n",
    "b[1,0]\n",
    "b[:,[0,2]]\n",
    "b[1,2]=7\n",
    "b[:,2]=8\n",
    "b"
   ]
  },
  {
   "cell_type": "code",
   "execution_count": 17,
   "metadata": {},
   "outputs": [
    {
     "data": {
      "text/plain": [
       "array([[6, 1, 2],\n",
       "       [3, 4, 5]])"
      ]
     },
     "execution_count": 17,
     "metadata": {},
     "output_type": "execute_result"
    }
   ],
   "source": [
    "c1 = np.array([0,1,2,3,4,5])\n",
    "# c1 を2X3の２次元配列に変換\n",
    "c2 = c1.reshape((2,3))\n",
    "c2\n",
    "# c2 を１次元配列に変[参照]\n",
    "c3 = c2.ravel()\n",
    "# c2 を１次元配列に変[コピー]\n",
    "c4 = c2.flatten()\n",
    "c4\n",
    "# 配列要素のデータ型を確認\n",
    "c4.dtype\n",
    "# 型付け配列作成\n",
    "d = np.array([1,2], dtype=np.int16)\n",
    "d.dtype\n",
    "# 型変換\n",
    "d.astype(np.float16)\n",
    "c3 = c2.ravel()\n",
    "c4 = c2.flatten()\n",
    "c3[0] =6\n",
    "c4[1] =7\n",
    "c2"
   ]
  },
  {
   "cell_type": "code",
   "execution_count": 23,
   "metadata": {},
   "outputs": [
    {
     "name": "stdout",
     "output_type": "stream",
     "text": [
      "[0, 1]\n",
      "[2, 1]\n",
      "[2 1]\n",
      "[2 1]\n"
     ]
    }
   ],
   "source": [
    "py_list1 = [0,1]\n",
    "py_list2  = py_list1[:]\n",
    "py_list2[0] = 2\n",
    "print(py_list1)\n",
    "print(py_list2)\n",
    "np_array1 = np.array([0,1])\n",
    "np_array2 = np_array1[:]\n",
    "np_array2[0] = 2\n",
    "print(np_array1)\n",
    "print(np_array2)"
   ]
  },
  {
   "cell_type": "markdown",
   "metadata": {},
   "source": [
    "### 数列を返す(arange)"
   ]
  },
  {
   "cell_type": "code",
   "execution_count": 27,
   "metadata": {},
   "outputs": [
    {
     "name": "stdout",
     "output_type": "stream",
     "text": [
      "[0 1 2 3 4 5 6 7 8 9]\n",
      "[ 1  2  3  4  5  6  7  8  9 10]\n",
      "[1 3 5 7 9]\n"
     ]
    }
   ],
   "source": [
    "print(np.arange(10))\n",
    "print(np.arange(1,11))\n",
    "print(np.arange(1,11,2))"
   ]
  },
  {
   "cell_type": "markdown",
   "metadata": {},
   "source": [
    "### 乱数"
   ]
  },
  {
   "cell_type": "code",
   "execution_count": 46,
   "metadata": {},
   "outputs": [
    {
     "name": "stdout",
     "output_type": "stream",
     "text": [
      "[[0.34317802 0.72904971]\n",
      " [0.43857224 0.0596779 ]\n",
      " [0.39804426 0.73799541]]\n",
      "[[0.18249173 0.17545176]\n",
      " [0.53155137 0.53182759]\n",
      " [0.63440096 0.84943179]]\n"
     ]
    },
    {
     "data": {
      "text/plain": [
       "-1.0856306033005612"
      ]
     },
     "execution_count": 46,
     "metadata": {},
     "output_type": "execute_result"
    }
   ],
   "source": [
    "# タプルは引数\n",
    "f = np.random.random((3,2))\n",
    "print(f)\n",
    "# 複数の引数\n",
    "f = np.random.rand(3,2)\n",
    "print(f)\n",
    "# 乱数をseedで固定\n",
    "np.random.seed(123)\n",
    "np.random.random((3,2))\n",
    "# ある範囲内の任意の整数を生成\n",
    "np.random.seed(123)\n",
    "np.random.randint(1,10)\n",
    "np.random.seed(123)\n",
    "np.random.randint(1,10,(3,3))\n",
    "# ある範囲内の任意の小数値を生成\n",
    "np.random.seed(123)\n",
    "np.random.uniform(0.0,5.0,(2,3))\n",
    "# 標準正規分布\n",
    "np.random.seed(123)\n",
    "np.random.randn(4,2)\n",
    "#平均、標準偏差、size(形状)を引数として正規分布乱数を取得\n",
    "np.random.seed(123)\n",
    "np.random.normal()"
   ]
  },
  {
   "cell_type": "markdown",
   "metadata": {},
   "source": [
    "### 同じ要素の数列を作る"
   ]
  },
  {
   "cell_type": "code",
   "execution_count": 53,
   "metadata": {},
   "outputs": [
    {
     "name": "stdout",
     "output_type": "stream",
     "text": [
      "[[0. 0. 0.]\n",
      " [0. 0. 0.]]\n",
      "[[1. 1. 1.]\n",
      " [1. 1. 1.]]\n",
      "[[1. 0. 0. 0.]\n",
      " [0. 1. 0. 0.]\n",
      " [0. 0. 1. 0.]\n",
      " [0. 0. 0. 1.]]\n"
     ]
    }
   ],
   "source": [
    "# 要素が全て0.\n",
    "print(np.zeros((2,3)))\n",
    "# 要素が全1.\n",
    "print(np.ones((2,3)))\n",
    "# 要素が対角が1.その他が0.\n",
    "print(np.eye(4))"
   ]
  },
  {
   "cell_type": "markdown",
   "metadata": {},
   "source": [
    "### 指定値で埋める"
   ]
  },
  {
   "cell_type": "code",
   "execution_count": 65,
   "metadata": {},
   "outputs": [
    {
     "name": "stdout",
     "output_type": "stream",
     "text": [
      "[0.   0.25 0.5  0.75 1.  ]\n",
      "[0.   0.25 0.5  0.75 1.  ]\n"
     ]
    },
    {
     "data": {
      "text/plain": [
       "array([ 0,  4, -5,  2])"
      ]
     },
     "execution_count": 65,
     "metadata": {},
     "output_type": "execute_result"
    }
   ],
   "source": [
    "# 3.14を３つ埋める\n",
    "np.full(3,314)\n",
    "# 2x4の行列にpiを埋める\n",
    "np.full((2,4),np.pi)\n",
    "# Not a Numberの宣言\n",
    "np.array([1,2,np.nan])\n",
    "# 均等割りデータを作る(0~1の間5個のよそを作る)\n",
    "print(np.linspace(0,1,5))\n",
    "print(np.arange(0.0,1.1,0.25))\n",
    "np.linspace(0,np.pi,21)\n",
    "\n",
    "l = np.array([2,2,6,1,3])\n",
    "# 要素間の差分を返す\n",
    "np.diff(l)"
   ]
  },
  {
   "cell_type": "markdown",
   "metadata": {},
   "source": [
    "### 連携"
   ]
  },
  {
   "cell_type": "code",
   "execution_count": 81,
   "metadata": {},
   "outputs": [
    {
     "name": "stdout",
     "output_type": "stream",
     "text": [
      "[1, 5, 4]\n",
      "[1, 5, 4]\n"
     ]
    },
    {
     "data": {
      "text/plain": [
       "array([[ 1,  2,  8],\n",
       "       [ 4,  5,  8],\n",
       "       [30, 60, 45]])"
      ]
     },
     "execution_count": 81,
     "metadata": {},
     "output_type": "execute_result"
    }
   ],
   "source": [
    "a = [1,5,4]\n",
    "a1 = [1,5,4]\n",
    "print(a)\n",
    "print(a1)\n",
    "# a+a1\n",
    "np.concatenate([a,a1])\n",
    "# ２次元配列の連携、axis=1:列方向増やす\n",
    "b = np.array([[1,2,8],[4,5,8]])\n",
    "b1 = np.array([[10],[20]])\n",
    "np.concatenate([b,b1],axis=1)\n",
    "np.hstack([b,b1])\n",
    "b2 = np.array([30,60,45])\n",
    "# 行方向増やす\n",
    "b3 = np.vstack([b,b2])\n",
    "b3"
   ]
  },
  {
   "cell_type": "markdown",
   "metadata": {},
   "source": [
    "### 分割"
   ]
  },
  {
   "cell_type": "code",
   "execution_count": 88,
   "metadata": {},
   "outputs": [
    {
     "name": "stdout",
     "output_type": "stream",
     "text": [
      "[[ 1  2  8]\n",
      " [ 4  5  8]\n",
      " [30 60 45]]\n",
      "------\n",
      "[[ 1  2]\n",
      " [ 4  5]\n",
      " [30 60]]\n",
      "[[ 8]\n",
      " [ 8]\n",
      " [45]]\n",
      "------\n",
      "[[1 2 8]\n",
      " [4 5 8]]\n",
      "[[30 60 45]]\n"
     ]
    }
   ],
   "source": [
    "# 列毎に分割\n",
    "first,second = np.hsplit(b3,[2])\n",
    "print(b3)\n",
    "print('------')\n",
    "print(first)\n",
    "print(second)\n",
    "print('------')\n",
    "# 行毎に分割\n",
    "first1,second2 = np.vsplit(b3,[2])\n",
    "print(first1)\n",
    "print(second2)"
   ]
  },
  {
   "cell_type": "markdown",
   "metadata": {},
   "source": [
    "### 転置、次元追加"
   ]
  },
  {
   "cell_type": "code",
   "execution_count": 107,
   "metadata": {},
   "outputs": [
    {
     "name": "stdout",
     "output_type": "stream",
     "text": [
      "[[1 2 8]\n",
      " [4 5 8]]\n",
      "[[1 4]\n",
      " [2 5]\n",
      " [8 8]]\n"
     ]
    },
    {
     "data": {
      "text/plain": [
       "array([[1],\n",
       "       [5],\n",
       "       [4]])"
      ]
     },
     "execution_count": 107,
     "metadata": {},
     "output_type": "execute_result"
    }
   ],
   "source": [
    "print(b)\n",
    "# 行列を転置\n",
    "print(b.T)\n",
    "a = np.array([1,5,4])\n",
    "a\n",
    "# 行方向に次元追加\n",
    "a[np.newaxis, :]\n",
    "# 列方向に次元追加\n",
    "a[:,np.newaxis]"
   ]
  },
  {
   "cell_type": "markdown",
   "metadata": {},
   "source": [
    "### グリッドデータの作成"
   ]
  },
  {
   "cell_type": "code",
   "execution_count": 114,
   "metadata": {},
   "outputs": [
    {
     "name": "stdout",
     "output_type": "stream",
     "text": [
      "[[0 1 2 3]\n",
      " [0 1 2 3]\n",
      " [0 1 2 3]]\n",
      "[[4 4 4 4]\n",
      " [5 5 5 5]\n",
      " [6 6 6 6]]\n"
     ]
    }
   ],
   "source": [
    "m = np.arange(0,4)\n",
    "n = np.arange(4,7)\n",
    "# xxにmを行方向に3回(nの長さ)コピーして入れる \n",
    "# yy にnを列方向に4回(ｍの長さ)コピーして入れる\n",
    "xx,yy = np.meshgrid(m,n)\n",
    "print(xx)\n",
    "print(yy)"
   ]
  },
  {
   "cell_type": "markdown",
   "metadata": {},
   "source": [
    "## 4.1.3 Numpyの各機能"
   ]
  },
  {
   "cell_type": "code",
   "execution_count": 15,
   "metadata": {},
   "outputs": [
    {
     "name": "stdout",
     "output_type": "stream",
     "text": [
      "a: [0 1 2]\n",
      "b [[-3 -2 -1]\n",
      " [ 0  1  2]]\n",
      "c: [[1 2 3]\n",
      " [4 5 6]]\n",
      "d: [[0 1]\n",
      " [2 3]\n",
      " [4 5]]\n",
      "e: [-1.         -0.77777778 -0.55555556 -0.33333333 -0.11111111  0.11111111\n",
      "  0.33333333  0.55555556  0.77777778  1.        ]\n",
      "a: (3,)\n",
      "b (2, 3)\n",
      "c: (2, 3)\n",
      "d: (3, 2)\n",
      "e: (10,)\n",
      "[[3, 2, 1], [0, 1, 2]]\n"
     ]
    }
   ],
   "source": [
    "import numpy as np\n",
    "a = np.arange(3)\n",
    "b = np.arange(-3, 3).reshape((2,3))\n",
    "c = np.arange(1,7).reshape((2,3))\n",
    "d = np.arange(6).reshape((3,2))\n",
    "e = np.linspace(-1,1,10)\n",
    "# 配列確認\n",
    "print(\"a:\",a)\n",
    "print(\"b\",b)\n",
    "print(\"c:\",c)\n",
    "print(\"d:\",d)\n",
    "print(\"e:\",e)\n",
    "# 要素確認\n",
    "print(\"a:\",a.shape)\n",
    "print(\"b\",b.shape)\n",
    "print(\"c:\",c.shape)\n",
    "print(\"d:\",d.shape)\n",
    "print(\"e:\",e.shape)\n",
    "new = []\n",
    "for i, j in enumerate(b):\n",
    "    new.append([])\n",
    "    for k in j:\n",
    "        new[i].append(abs(k))\n",
    "print(new)\n"
   ]
  },
  {
   "cell_type": "markdown",
   "metadata": {},
   "source": [
    "### ユニバーサルファンクション"
   ]
  },
  {
   "cell_type": "code",
   "execution_count": 14,
   "metadata": {},
   "outputs": [
    {
     "name": "stdout",
     "output_type": "stream",
     "text": [
      "[[3 2 1]\n",
      " [0 1 2]]\n"
     ]
    },
    {
     "name": "stderr",
     "output_type": "stream",
     "text": [
      "/Users/burgud/anaconda3/lib/python3.6/site-packages/ipykernel_launcher.py:9: RuntimeWarning: divide by zero encountered in log\n",
      "  if __name__ == '__main__':\n"
     ]
    },
    {
     "data": {
      "text/plain": [
       "array([1.        , 2.71828183, 7.3890561 ])"
      ]
     },
     "execution_count": 14,
     "metadata": {},
     "output_type": "execute_result"
    }
   ],
   "source": [
    "# 絶対値\n",
    "np.abs(b)\n",
    "# sin関数\n",
    "np.sin(e)\n",
    "# cos関数\n",
    "np.cos(e)\n",
    "# log関数\n",
    "np.log(a)\n",
    "# log10関数(底が10)\n",
    "np.log10(c)\n",
    "# eのｘ\n",
    "np.exp(a)"
   ]
  },
  {
   "cell_type": "markdown",
   "metadata": {},
   "source": [
    "### ブロードキャスト"
   ]
  },
  {
   "cell_type": "code",
   "execution_count": 42,
   "metadata": {},
   "outputs": [
    {
     "name": "stderr",
     "output_type": "stream",
     "text": [
      "/Users/burgud/anaconda3/lib/python3.6/site-packages/ipykernel_launcher.py:20: RuntimeWarning: divide by zero encountered in true_divide\n"
     ]
    },
    {
     "data": {
      "text/plain": [
       "array([[inf, 2. , 1.5],\n",
       "       [inf, 5. , 3. ]])"
      ]
     },
     "execution_count": 42,
     "metadata": {},
     "output_type": "execute_result"
    }
   ],
   "source": [
    "# 配列各要素に+10\n",
    "a+10\n",
    "# aが2+3になり+b\n",
    "a+b\n",
    "# aが3行まで拡張され、a1が3x3になれ足し算\n",
    "a1 = a[:, np.newaxis]\n",
    "a+a1\n",
    "# 各要素から引き算\n",
    "c -np.mean(c)\n",
    "# 各要素をかけ算\n",
    "b * 2\n",
    "# 各要素を2乗\n",
    "b ** 2\n",
    "# aを２行にして引き算\n",
    "b -a\n",
    "# aを２行にして引き算\n",
    "a * b\n",
    "# aを２行にして引き算\n",
    "a / c\n",
    "c / a"
   ]
  },
  {
   "cell_type": "markdown",
   "metadata": {},
   "source": [
    "### ドット積"
   ]
  },
  {
   "cell_type": "code",
   "execution_count": 46,
   "metadata": {},
   "outputs": [
    {
     "data": {
      "text/plain": [
       "array([[  0,   1,   2],\n",
       "       [ -6,  -1,   4],\n",
       "       [-12,  -3,   6]])"
      ]
     },
     "execution_count": 46,
     "metadata": {},
     "output_type": "execute_result"
    }
   ],
   "source": [
    "# a =[0,1,2] x b=[[-3,-2,-1],[0,1,2]] = [(0x(-3)+1x(-2)+2x(-1)),0x0+1x1+2x2]=[-4,5]\n",
    "np.dot(b, a)\n",
    "b @ a\n",
    "\n",
    "d @ b"
   ]
  },
  {
   "cell_type": "markdown",
   "metadata": {},
   "source": [
    "### 判定論理値"
   ]
  },
  {
   "cell_type": "code",
   "execution_count": 70,
   "metadata": {},
   "outputs": [
    {
     "data": {
      "text/plain": [
       "False"
      ]
     },
     "execution_count": 70,
     "metadata": {},
     "output_type": "execute_result"
    }
   ],
   "source": [
    "# a = [0,1,2]\n",
    "a >1\n",
    "# b = [[-3,-2,-1],[0,1,2]]\n",
    "b > 0\n",
    "# 0ではない要素数を出力、Falseを0として扱う\n",
    "np.count_nonzero(b >0)\n",
    "# Trueを１として扱って足し算する\n",
    "np.sum(b >0)\n",
    "# Trueの要素があるかどうかを判定\n",
    "np.any(b > 0)\n",
    "# 要素が全てTrueだったらTrueを還す\n",
    "np.all(b > 0)\n",
    "# bから0以上要素を洗い出して新しい配列を作成\n",
    "b[b > 0]\n",
    "# 要素を比較\n",
    "b == c\n",
    "(b == c) | (a == b)\n",
    "b[(b == c) | (a == b)]\n",
    "# 誤差の範囲\n",
    "np.allclose(b,c)\n",
    "#誤差の範囲を引数で指定\n",
    "np.allclose(b,c,atol=3)"
   ]
  },
  {
   "cell_type": "markdown",
   "metadata": {},
   "source": [
    "### 関数とメソッド"
   ]
  },
  {
   "cell_type": "code",
   "execution_count": 73,
   "metadata": {},
   "outputs": [
    {
     "data": {
      "text/plain": [
       "True"
      ]
     },
     "execution_count": 73,
     "metadata": {},
     "output_type": "execute_result"
    }
   ],
   "source": [
    "#pythonのメソッド\n",
    "a.sum()\n",
    "#Numpyの関数\n",
    "np.sum(a)\n",
    "# 結果を同様、関数をメソッドの呼び出すをサポート\n",
    "a.sum() == np.sum(a)"
   ]
  }
 ],
 "metadata": {
  "kernelspec": {
   "display_name": "Python 3",
   "language": "python",
   "name": "python3"
  },
  "language_info": {
   "codemirror_mode": {
    "name": "ipython",
    "version": 3
   },
   "file_extension": ".py",
   "mimetype": "text/x-python",
   "name": "python",
   "nbconvert_exporter": "python",
   "pygments_lexer": "ipython3",
   "version": "3.6.8"
  }
 },
 "nbformat": 4,
 "nbformat_minor": 2
}
