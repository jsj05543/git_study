{
 "cells": [
  {
   "cell_type": "markdown",
   "metadata": {},
   "source": [
    "## 4.4.3 回帰"
   ]
  },
  {
   "cell_type": "markdown",
   "metadata": {},
   "source": [
    "* 回帰とは　`目的変数`を複数の`説明変数`で説明する"
   ]
  },
  {
   "cell_type": "markdown",
   "metadata": {},
   "source": [
    "* 線形回帰とは `目的変数`をy, `説明変数`をx1・・・xpとした時、 `y = a0 + a1x1 + ・・・ + apxp`　"
   ]
  },
  {
   "cell_type": "code",
   "execution_count": null,
   "metadata": {},
   "outputs": [],
   "source": [
    "説明変数を求める方法`最法`と`最小二乗法`"
   ]
  },
  {
   "cell_type": "code",
   "execution_count": 1,
   "metadata": {},
   "outputs": [
    {
     "data": {
      "text/plain": [
       "LinearRegression(copy_X=True, fit_intercept=True, n_jobs=1, normalize=False)"
      ]
     },
     "execution_count": 1,
     "metadata": {},
     "output_type": "execute_result"
    }
   ],
   "source": [
    "from sklearn.linear_model import LinearRegression\n",
    "from sklearn.datasets import load_boston\n",
    "from sklearn.model_selection import train_test_split\n",
    "\n",
    "# Bostonデータセットをう読み取り\n",
    "boston = load_boston()\n",
    "X, y = boston.data, boston.target\n",
    "# 学習データセットとテストデータセットに分割\n",
    "X_train, X_test, y_train, y_test =train_test_split(X, y, test_size=0.3, random_state=123)\n",
    "\n",
    "#線形回帰をインスタンス化\n",
    "lr = LinearRegression()\n",
    "\n",
    "#学習\n",
    "lr.fit(X_train,y_train)\n"
   ]
  },
  {
   "cell_type": "code",
   "execution_count": 2,
   "metadata": {},
   "outputs": [
    {
     "data": {
      "text/plain": [
       "array([15.51921361, 27.86233683, 39.71779744, 17.94255214, 30.19292774,\n",
       "       37.48672957, 25.21136428, 11.24755593, 13.9365023 , 32.10625496,\n",
       "       28.51903345, 19.1024797 , 14.1468027 , 30.6142138 , 16.90817177,\n",
       "       21.57918426, 20.56464864, 38.03400078, 18.28493553, 15.4390425 ,\n",
       "       13.93063134, 22.89432872, 33.08507506, 38.86090149, 29.92038175,\n",
       "       22.33017215, 17.85661709, 20.65938821, 23.38112056, 20.47701418,\n",
       "       25.78540679, 33.83843136, 15.33856627, 21.79091207, 24.14899568,\n",
       "       35.20395606, 29.21116452, 18.55500037, 13.95622678, 38.63140318,\n",
       "       31.18019571, 19.10841951, 19.13017887, 39.76386999,  8.85608926,\n",
       "       27.28587811, 19.04946579, 25.4552507 , 15.49883732, 26.18624884,\n",
       "       33.70374497, 24.39950731, 19.39894872, 12.5404461 , 24.51447481,\n",
       "       18.19486761, 10.61714786,  2.28442931, 31.71651272, 13.45620813,\n",
       "       20.09966789, 22.39281155, 19.953747  , 17.84535936, 24.3479625 ,\n",
       "       26.93633253, 25.82372416, 22.18741243, 24.68702499, 30.3693207 ,\n",
       "       20.31540854, 28.50255528, 15.23695293, 24.73119315, 20.07475235,\n",
       "       18.07983732, 18.40448544, 16.92141373, 28.80540258, -0.7260093 ,\n",
       "       32.76890364, 12.78361564, 25.01871574, 20.23221832, 14.14951993,\n",
       "       22.51864631, 18.35066663, 24.55310971, 19.53147601, 32.04918306,\n",
       "       16.05741993, 34.70404115, 23.29260763, 25.53912095, 30.94810691,\n",
       "       28.95478824, 19.01556414, 31.35824572, 26.99423873, 36.53431152,\n",
       "       16.64652106, 16.74902119, 42.70011512, 17.77152132, 21.81770565,\n",
       "       28.55083526, 14.65254686, 17.8316914 , 14.87448145, 20.8618222 ,\n",
       "       24.87599   , 20.54375525, 14.27427301, 20.78837898, 19.95851774,\n",
       "       27.61805388, 29.93571812, 13.23209804, 22.0974467 , 19.44104312,\n",
       "       17.37400939, 37.07421084, 20.21861408, 10.34328225, 12.09110428,\n",
       "       22.77061552, 24.18551683, 20.73780515, 13.05753564, 23.03503206,\n",
       "       23.32122956, 16.90180295,  8.75942956,  5.63583103, 14.93194786,\n",
       "       18.19304327, 17.88276189, 18.0079128 , 17.42939157, 19.29573102,\n",
       "       24.88961662, 21.60076706, 15.28653593, 22.22928938, 32.12578091,\n",
       "       15.88176422, 23.36485807, 17.70501176, 27.0666041 , 18.85926158,\n",
       "       16.89030515, 22.45713949])"
      ]
     },
     "execution_count": 2,
     "metadata": {},
     "output_type": "execute_result"
    }
   ],
   "source": [
    "# テストデータセットを予測\n",
    "y_pred = lr.predict(X_test)\n",
    "y_pred"
   ]
  },
  {
   "cell_type": "code",
   "execution_count": 4,
   "metadata": {},
   "outputs": [
    {
     "data": {
      "image/png": "[encoded data removed]",
      "text/plain": [
       "<Figure size 432x288 with 1 Axes>"
      ]
     },
     "metadata": {},
     "output_type": "display_data"
    }
   ],
   "source": [
    "import matplotlib.pyplot as plt\n",
    "\n",
    "# 横軸を予測値、縦軸を実績値とする散布図をプロットする\n",
    "fig, ax =plt.subplots()\n",
    "\n",
    "ax.scatter(y_pred,y_test)\n",
    "ax.plot((0, 50),(0, 50), linestyle='dashed', color='red')\n",
    "ax.set_xlabel('predicted value')\n",
    "ax.set_xlabel('actual value')\n",
    "plt.show()\n",
    "\n",
    "    "
   ]
  },
  {
   "cell_type": "code",
   "execution_count": null,
   "metadata": {},
   "outputs": [],
   "source": []
  }
 ],
 "metadata": {
  "kernelspec": {
   "display_name": "Python 3",
   "language": "python",
   "name": "python3"
  },
  "language_info": {
   "codemirror_mode": {
    "name": "ipython",
    "version": 3
   },
   "file_extension": ".py",
   "mimetype": "text/x-python",
   "name": "python",
   "nbconvert_exporter": "python",
   "pygments_lexer": "ipython3",
   "version": "3.6.8"
  }
 },
 "nbformat": 4,
 "nbformat_minor": 2
}
