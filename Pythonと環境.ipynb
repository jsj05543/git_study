{
 "cells": [
  {
   "cell_type": "markdown",
   "metadata": {},
   "source": [
    "### バージョン確認\n",
    "\n",
    "```\n",
    " ＄python -V\n",
    "\n",
    "```\n",
    "### venv \n",
    " * 使う目的\n",
    "  * は異なるバージョンのパッケージを使い分けるため\n",
    " * 方法\n",
    " \n",
    " \n",
    " ```\n",
    " # venv-testは環境名　仮装環境作成\n",
    " ＄python -m venv venv-test\n",
    " # 環境を有効化\n",
    " ＄source venv-test/bin/activate\n",
    " # 環境を無効化(仮装環境から抜ける)\n",
    " ＄deactivate\n",
    " # 仮装環境を削除\n",
    " ＄rm -rf venv-test\n",
    "```\n",
    " \n",
    " "
   ]
  },
  {
   "cell_type": "markdown",
   "metadata": {},
   "source": [
    "## pip"
   ]
  },
  {
   "cell_type": "markdown",
   "metadata": {},
   "source": [
    "|No.|命令|説明|\n",
    "|----|-----|-----|\n",
    "|1| `pip install numpy` |パッケージインストール(numpy)|\n",
    "|2| `pip uninstall numpy` |パッケージアンインストール(numpy)|\n",
    "|3| `pip install numpy==1.14.1` |パッケージバージョン指定インストール(numpy)|\n",
    "|4| `pip install -U numpy` |最新版のパッケージインストール(numpy)|\n",
    "|5| `pip install -U pip` |pipコマンド更新|\n",
    "|6| `pip uninstall -y numpy` |パッケージ削除(numpy)|\n",
    "|7| `pip install numpy pandas` |複数のパッケージを同時にインストール|\n",
    "|8| `pip freeze > requirements.txt` |インストールされているパッケージ一覧を出力|\n",
    "|9| `pip freeze -r requirements.txt` |外部ファイルからパッケージ一インストール|"
   ]
  },
  {
   "cell_type": "markdown",
   "metadata": {},
   "source": [
    "## python基礎\n",
    "### コーディング規約\n",
    "* PEP 8(ペップエイト)\n",
    "\n",
    "### コーディング規約違反チェック\n",
    "* pycodestyle\n",
    "\n",
    "### 標準ライブラリ\n",
    "* 1. 正規表現モジュール\n",
    "* 2. loggingモジュール\n",
    "* 3. datetimeモジュール\n",
    "* 4. pickleモジュール\n",
    "* 5. pathlibモジュール"
   ]
  },
  {
   "cell_type": "markdown",
   "metadata": {},
   "source": [
    "### 1.正規表現モジュール\n",
    " * 正規表現を扱う"
   ]
  },
  {
   "cell_type": "code",
   "execution_count": 30,
   "metadata": {},
   "outputs": [],
   "source": [
    "import re"
   ]
  },
  {
   "cell_type": "code",
   "execution_count": 34,
   "metadata": {},
   "outputs": [
    {
     "data": {
      "text/plain": [
       "<_sre.SRE_Match object; span=(0, 6), match='python'>"
      ]
     },
     "execution_count": 34,
     "metadata": {},
     "output_type": "execute_result"
    }
   ],
   "source": [
    "# 正規表現オブジェクト作成\n",
    "prog = re.compile('(p(yth|l)|Z)o[pn]e?')\n",
    "# マッチする場合オブジェクトを返す\n",
    "prog.search('python')"
   ]
  },
  {
   "cell_type": "markdown",
   "metadata": {},
   "source": [
    "### 2.loggingモジュール\n",
    " * ログレベル指定 \n"
   ]
  },
  {
   "cell_type": "code",
   "execution_count": 25,
   "metadata": {},
   "outputs": [],
   "source": [
    "import logging"
   ]
  },
  {
   "cell_type": "code",
   "execution_count": 27,
   "metadata": {},
   "outputs": [
    {
     "data": {
      "text/plain": [
       "<module 'logging' from '/Users/burgud/anaconda3/lib/python3.6/logging/__init__.py'>"
      ]
     },
     "execution_count": 27,
     "metadata": {},
     "output_type": "execute_result"
    }
   ],
   "source": [
    " # 出力ファイル、ログレベル、フォーマット指定\n",
    "logging.basicConfig(filename='example.log',level =logging.INFO, format ='%(asctime)s:%(levelname)s:%(message)s')\n",
    "logging"
   ]
  },
  {
   "cell_type": "code",
   "execution_count": 28,
   "metadata": {},
   "outputs": [],
   "source": [
    "logging.debug('デバックレベル')\n",
    "logging.info('INFOレベル')\n",
    "logging.warning('警告レベル')\n",
    "logging.error('エラーレベル')\n",
    "logging.critical('重要大なエラー')"
   ]
  },
  {
   "cell_type": "markdown",
   "metadata": {},
   "source": [
    "### 3.datetimeモジュール\n",
    " * 日付処理"
   ]
  },
  {
   "cell_type": "code",
   "execution_count": 12,
   "metadata": {},
   "outputs": [],
   "source": [
    "from datetime import datetime,date"
   ]
  },
  {
   "cell_type": "code",
   "execution_count": 13,
   "metadata": {},
   "outputs": [
    {
     "data": {
      "text/plain": [
       "datetime.datetime(2020, 7, 18, 17, 31, 11, 897055)"
      ]
     },
     "execution_count": 13,
     "metadata": {},
     "output_type": "execute_result"
    }
   ],
   "source": [
    "# 現在の日付を取得\n",
    "datetime.now()"
   ]
  },
  {
   "cell_type": "code",
   "execution_count": 14,
   "metadata": {},
   "outputs": [
    {
     "data": {
      "text/plain": [
       "datetime.date(2020, 7, 18)"
      ]
     },
     "execution_count": 14,
     "metadata": {},
     "output_type": "execute_result"
    }
   ],
   "source": [
    "# 今日の日付を取得\n",
    "date.today()"
   ]
  },
  {
   "cell_type": "code",
   "execution_count": 15,
   "metadata": {},
   "outputs": [
    {
     "data": {
      "text/plain": [
       "datetime.timedelta(4383)"
      ]
     },
     "execution_count": 15,
     "metadata": {},
     "output_type": "execute_result"
    }
   ],
   "source": [
    "\n",
    "#  期間計算\n",
    "date.today()- date(2008,7,18)"
   ]
  },
  {
   "cell_type": "code",
   "execution_count": 17,
   "metadata": {},
   "outputs": [
    {
     "data": {
      "text/plain": [
       "'2020-07-18T17:34:53.438390'"
      ]
     },
     "execution_count": 17,
     "metadata": {},
     "output_type": "execute_result"
    }
   ],
   "source": [
    "#  IS08601形式の文字列を取得O期間計算\n",
    "datetime.now().isoformat()"
   ]
  },
  {
   "cell_type": "code",
   "execution_count": 18,
   "metadata": {},
   "outputs": [
    {
     "data": {
      "text/plain": [
       "'2020年07月18日'"
      ]
     },
     "execution_count": 18,
     "metadata": {},
     "output_type": "execute_result"
    }
   ],
   "source": [
    "#  日付を文字列に変換\n",
    "date.today().strftime('%Y年%m月%d日')"
   ]
  },
  {
   "cell_type": "code",
   "execution_count": 20,
   "metadata": {},
   "outputs": [
    {
     "data": {
      "text/plain": [
       "datetime.datetime(2020, 7, 19, 0, 0)"
      ]
     },
     "execution_count": 20,
     "metadata": {},
     "output_type": "execute_result"
    }
   ],
   "source": [
    "#  文字列を日付に変換\n",
    "datetime.strptime('2020年7月19日','%Y年%m月%d日')"
   ]
  },
  {
   "cell_type": "markdown",
   "metadata": {},
   "source": [
    "### 4.pickleモジュール\n",
    " * pythonのオブジェクトを直列化してファイルなどで読み書き"
   ]
  },
  {
   "cell_type": "code",
   "execution_count": 23,
   "metadata": {},
   "outputs": [
    {
     "data": {
      "text/plain": [
       "{'today': datetime.date(2020, 7, 18), 'delia': datetime.timedelta(-564)}"
      ]
     },
     "execution_count": 23,
     "metadata": {},
     "output_type": "execute_result"
    }
   ],
   "source": [
    "import pickle\n",
    "\n",
    "\n",
    "d = {'today':date.today(),'delia':date(2019,1,1) -date.today()}\n",
    "\n",
    "d"
   ]
  },
  {
   "cell_type": "markdown",
   "metadata": {},
   "source": [
    "### 5.pathlibモジュール\n",
    " * ファイルのパスを扱う"
   ]
  },
  {
   "cell_type": "code",
   "execution_count": 3,
   "metadata": {},
   "outputs": [
    {
     "data": {
      "text/plain": [
       "PosixPath('.')"
      ]
     },
     "execution_count": 3,
     "metadata": {},
     "output_type": "execute_result"
    }
   ],
   "source": [
    "from pathlib import Path\n",
    "\n",
    "# Pathpオブジェクトの現在おディレクトリで生成\n",
    "p =Path()\n",
    "p"
   ]
  },
  {
   "cell_type": "code",
   "execution_count": 4,
   "metadata": {},
   "outputs": [
    {
     "data": {
      "text/plain": [
       "False"
      ]
     },
     "execution_count": 4,
     "metadata": {},
     "output_type": "execute_result"
    }
   ],
   "source": [
    "p =Path('/spam')\n",
    "# ファイル存在チェック\n",
    "p.exists()\n"
   ]
  },
  {
   "cell_type": "code",
   "execution_count": 5,
   "metadata": {},
   "outputs": [
    {
     "data": {
      "text/plain": [
       "False"
      ]
     },
     "execution_count": 5,
     "metadata": {},
     "output_type": "execute_result"
    }
   ],
   "source": [
    "# ディレクトリかチェック\n",
    "p.is_dir()"
   ]
  },
  {
   "cell_type": "code",
   "execution_count": 35,
   "metadata": {},
   "outputs": [
    {
     "name": "stdout",
     "output_type": "stream",
     "text": [
      "Package                            Version\r\n",
      "---------------------------------- ----------\r\n",
      "alabaster                          0.7.10\r\n",
      "anaconda-client                    1.6.14\r\n",
      "anaconda-navigator                 1.9.12\r\n",
      "anaconda-project                   0.8.2\r\n",
      "appnope                            0.1.0\r\n",
      "appscript                          1.0.1\r\n",
      "asn1crypto                         0.24.0\r\n",
      "astroid                            1.6.3\r\n",
      "astropy                            3.0.2\r\n",
      "attrs                              18.1.0\r\n",
      "Babel                              2.5.3\r\n",
      "backcall                           0.1.0\r\n",
      "backports.shutil-get-terminal-size 1.0.0\r\n",
      "beautifulsoup4                     4.6.0\r\n",
      "bitarray                           0.8.1\r\n",
      "bkcharts                           0.2\r\n",
      "blaze                              0.11.3\r\n",
      "bleach                             2.1.3\r\n",
      "bokeh                              0.12.16\r\n",
      "boto                               2.48.0\r\n",
      "Bottleneck                         1.2.1\r\n",
      "certifi                            2020.4.5.1\r\n",
      "cffi                               1.11.5\r\n",
      "chardet                            3.0.4\r\n",
      "click                              6.7\r\n",
      "cloudpickle                        0.5.3\r\n",
      "clyent                             1.2.2\r\n",
      "colorama                           0.3.9\r\n",
      "conda                              4.8.3\r\n",
      "conda-build                        3.10.5\r\n",
      "conda-package-handling             1.6.0\r\n",
      "conda-verify                       2.0.0\r\n",
      "contextlib2                        0.5.5\r\n",
      "cryptography                       2.8\r\n",
      "cycler                             0.10.0\r\n",
      "Cython                             0.28.2\r\n",
      "cytoolz                            0.9.0.1\r\n",
      "dask                               0.17.5\r\n",
      "datashape                          0.5.4\r\n",
      "decorator                          4.3.0\r\n",
      "distributed                        1.21.8\r\n",
      "Django                             2.1.2\r\n",
      "docutils                           0.14\r\n",
      "entrypoints                        0.2.3\r\n",
      "et-xmlfile                         1.0.1\r\n",
      "fastcache                          1.0.2\r\n",
      "filelock                           3.0.4\r\n",
      "Flask                              1.0.2\r\n",
      "Flask-Cors                         3.0.4\r\n",
      "gevent                             1.3.0\r\n",
      "glob2                              0.6\r\n",
      "gmpy2                              2.0.8\r\n",
      "greenlet                           0.4.13\r\n",
      "h5py                               2.7.1\r\n",
      "heapdict                           1.0.0\r\n",
      "html5lib                           1.0.1\r\n",
      "idna                               2.6\r\n",
      "imageio                            2.3.0\r\n",
      "imagesize                          1.0.0\r\n",
      "ipykernel                          4.8.2\r\n",
      "ipython                            6.4.0\r\n",
      "ipython-genutils                   0.2.0\r\n",
      "ipywidgets                         7.2.1\r\n",
      "isort                              4.3.4\r\n",
      "itsdangerous                       0.24\r\n",
      "jdcal                              1.4\r\n",
      "jedi                               0.12.0\r\n",
      "Jinja2                             2.10\r\n",
      "jsonschema                         2.6.0\r\n",
      "jupyter                            1.0.0\r\n",
      "jupyter-client                     5.2.3\r\n",
      "jupyter-console                    5.2.0\r\n",
      "jupyter-core                       4.4.0\r\n",
      "jupyterlab                         0.32.1\r\n",
      "jupyterlab-launcher                0.10.5\r\n",
      "kiwisolver                         1.0.1\r\n",
      "lazy-object-proxy                  1.3.1\r\n",
      "llvmlite                           0.23.1\r\n",
      "locket                             0.2.0\r\n",
      "lxml                               4.2.3\r\n",
      "MarkupSafe                         1.0\r\n",
      "matplotlib                         2.2.2\r\n",
      "mccabe                             0.6.1\r\n",
      "mistune                            0.8.3\r\n",
      "mkl-fft                            1.0.0\r\n",
      "mkl-random                         1.0.1\r\n",
      "more-itertools                     4.1.0\r\n",
      "mpmath                             1.0.0\r\n",
      "msgpack-python                     0.5.6\r\n",
      "multipledispatch                   0.5.0\r\n",
      "navigator-updater                  0.2.1\r\n",
      "nbconvert                          5.3.1\r\n",
      "nbformat                           4.4.0\r\n",
      "networkx                           2.1\r\n",
      "nltk                               3.3\r\n",
      "nose                               1.3.7\r\n",
      "notebook                           5.5.0\r\n",
      "numba                              0.38.0\r\n",
      "numexpr                            2.6.5\r\n",
      "numpy                              1.14.3\r\n",
      "numpydoc                           0.8.0\r\n",
      "oauthlib                           3.1.0\r\n",
      "odo                                0.5.1\r\n",
      "olefile                            0.45.1\r\n",
      "openpyxl                           2.5.4\r\n",
      "packaging                          17.1\r\n",
      "pandas                             0.23.3\r\n",
      "pandocfilters                      1.4.2\r\n",
      "parso                              0.2.0\r\n",
      "partd                              0.3.8\r\n",
      "path.py                            11.0.1\r\n",
      "pathlib2                           2.3.2\r\n",
      "patsy                              0.5.0\r\n",
      "pep8                               1.7.1\r\n",
      "pexpect                            4.5.0\r\n",
      "pickleshare                        0.7.4\r\n",
      "Pillow                             5.1.0\r\n",
      "pip                                20.1.1\r\n",
      "pkginfo                            1.4.2\r\n",
      "pluggy                             0.6.0\r\n",
      "ply                                3.11\r\n",
      "prompt-toolkit                     1.0.15\r\n",
      "psutil                             5.4.5\r\n",
      "ptyprocess                         0.5.2\r\n",
      "py                                 1.5.3\r\n",
      "pycodestyle                        2.4.0\r\n",
      "pycosat                            0.6.3\r\n",
      "pycparser                          2.18\r\n",
      "pycrypto                           2.6.1\r\n",
      "pycurl                             7.43.0.5\r\n",
      "pydotplus                          2.0.2\r\n",
      "pyflakes                           1.6.0\r\n",
      "Pygments                           2.2.0\r\n",
      "pylint                             1.8.4\r\n",
      "pyodbc                             4.0.23\r\n",
      "pyOpenSSL                          18.0.0\r\n",
      "pyparsing                          2.2.0\r\n",
      "PySocks                            1.6.8\r\n",
      "pytest                             3.5.1\r\n",
      "pytest-arraydiff                   0.2\r\n",
      "pytest-astropy                     0.3.0\r\n",
      "pytest-doctestplus                 0.1.3\r\n",
      "pytest-openfiles                   0.3.0\r\n",
      "pytest-remotedata                  0.2.1\r\n",
      "python-dateutil                    2.7.3\r\n",
      "pytz                               2018.4\r\n",
      "PyWavelets                         0.5.2\r\n",
      "PyYAML                             5.3.1\r\n",
      "pyzmq                              17.0.0\r\n",
      "QtAwesome                          0.4.4\r\n",
      "qtconsole                          4.3.1\r\n",
      "QtPy                               1.4.1\r\n",
      "requests                           2.18.4\r\n",
      "requests-oauthlib                  1.2.0\r\n",
      "rope                               0.10.7\r\n",
      "ruamel-yaml                        0.15.35\r\n",
      "scikit-image                       0.13.1\r\n",
      "scikit-learn                       0.19.1\r\n",
      "scipy                              1.1.0\r\n",
      "seaborn                            0.8.1\r\n",
      "Send2Trash                         1.5.0\r\n",
      "setuptools                         39.1.0\r\n",
      "simplegeneric                      0.8.1\r\n",
      "singledispatch                     3.4.0.3\r\n",
      "six                                1.11.0\r\n",
      "snowballstemmer                    1.2.1\r\n",
      "sortedcollections                  0.6.1\r\n",
      "sortedcontainers                   1.5.10\r\n",
      "Sphinx                             1.7.4\r\n",
      "sphinxcontrib-websupport           1.0.1\r\n",
      "spyder                             3.2.8\r\n",
      "SQLAlchemy                         1.2.7\r\n",
      "statsmodels                        0.9.0\r\n",
      "sympy                              1.1.1\r\n",
      "tables                             3.4.3\r\n",
      "tblib                              1.3.2\r\n",
      "terminado                          0.8.1\r\n",
      "testpath                           0.3.1\r\n",
      "toolz                              0.9.0\r\n",
      "tornado                            5.0.2\r\n",
      "tqdm                               4.45.0\r\n",
      "traitlets                          4.3.2\r\n",
      "typing                             3.6.4\r\n",
      "unicodecsv                         0.14.1\r\n",
      "urllib3                            1.22\r\n",
      "wcwidth                            0.1.7\r\n",
      "webencodings                       0.5.1\r\n",
      "Werkzeug                           0.14.1\r\n",
      "wheel                              0.31.1\r\n",
      "widgetsnbextension                 3.2.1\r\n",
      "wrapt                              1.10.11\r\n",
      "xlrd                               1.1.0\r\n",
      "XlsxWriter                         1.0.4\r\n",
      "xlwings                            0.11.8\r\n",
      "xlwt                               1.2.0\r\n",
      "xmltodict                          0.12.0\r\n",
      "zict                               0.1.3\r\n"
     ]
    }
   ],
   "source": [
    "!pip list"
   ]
  },
  {
   "cell_type": "code",
   "execution_count": null,
   "metadata": {},
   "outputs": [],
   "source": []
  }
 ],
 "metadata": {
  "kernelspec": {
   "display_name": "Python 3",
   "language": "python",
   "name": "python3"
  },
  "language_info": {
   "codemirror_mode": {
    "name": "ipython",
    "version": 3
   },
   "file_extension": ".py",
   "mimetype": "text/x-python",
   "name": "python",
   "nbconvert_exporter": "python",
   "pygments_lexer": "ipython3",
   "version": "3.6.8"
  }
 },
 "nbformat": 4,
 "nbformat_minor": 2
}
