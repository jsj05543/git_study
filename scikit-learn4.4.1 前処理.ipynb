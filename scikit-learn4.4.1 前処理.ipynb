{
 "cells": [
  {
   "cell_type": "markdown",
   "metadata": {},
   "source": [
    "# 4.4 scilit-learn"
   ]
  },
  {
   "cell_type": "markdown",
   "metadata": {},
   "source": [
    "### `前処理のライブラリ、モジュールまとめ`\n",
    "\n",
    "| No. | ライブラリ | モジュール | クラス | 関数 | import  | 処理区分 | 説明 |\n",
    "| ----- | ----------- | ------------ | ------- | -------- | : ---- | -----------| ------|\n",
    "| 1| - | - | - | dropna() |-  | DataFrame、２節で確認 | 欠損値の削除|\n",
    "| 2| sklearn | preprocessing | Imputer | fit()<br>transform() | from sklearn.preprocessing import Imputer | 前処理-欠損値の補完 | 欠損値の補完|\n",
    "| 3| sklearn | preprocessing | LabelEncoder | fit()<br>transform() | from sklearn.preprocessing import LabelEncoder | 前処理-ラベルエンコーディング | カテゴリ変数のエンコーディング実行|\n",
    "| 4| sklearn | preprocessing | OneHotEncoder | fit_transform() | from sklearn.preprocessing import OneHotEncoder | 前処理-One-hotエンコーディング | One-hotエンコーディングを実行|\n",
    "| 5| sklearn | preprocessing | StandardScaler | fit()<br>transform()  | from sklearn.preprocessing import StandardScaler | 前処理-特徴量正規化-分散正規化 | fit:平均と標準偏差求める<br>transform:分散正規化を実行|\n",
    "| 6| sklearn | preprocessing | MinMaxScaler | fit()<br>transform() | from sklearn.preprocessing import MinMaxScaler | 前処理-特徴量正規化-最小最大正規化 | fit:正規化した値を求める<br>transform:最小最大正規化を実行|"
   ]
  },
  {
   "cell_type": "markdown",
   "metadata": {},
   "source": [
    "## 4.4.1 前処理"
   ]
  },
  {
   "cell_type": "markdown",
   "metadata": {},
   "source": [
    "### 欠損値への対応\n",
    "- 欠損値への対応\n",
    "- カテゴリ変数のエンコーディング\n",
    "- 特徴量の正規化"
   ]
  },
  {
   "cell_type": "code",
   "execution_count": 1,
   "metadata": {},
   "outputs": [
    {
     "data": {
      "text/html": [
       "<div>\n",
       "<style scoped>\n",
       "    .dataframe tbody tr th:only-of-type {\n",
       "        vertical-align: middle;\n",
       "    }\n",
       "\n",
       "    .dataframe tbody tr th {\n",
       "        vertical-align: top;\n",
       "    }\n",
       "\n",
       "    .dataframe thead th {\n",
       "        text-align: right;\n",
       "    }\n",
       "</style>\n",
       "<table border=\"1\" class=\"dataframe\">\n",
       "  <thead>\n",
       "    <tr style=\"text-align: right;\">\n",
       "      <th></th>\n",
       "      <th>A</th>\n",
       "      <th>B</th>\n",
       "      <th>C</th>\n",
       "    </tr>\n",
       "  </thead>\n",
       "  <tbody>\n",
       "    <tr>\n",
       "      <th>0</th>\n",
       "      <td>1.0</td>\n",
       "      <td>6.0</td>\n",
       "      <td>11</td>\n",
       "    </tr>\n",
       "    <tr>\n",
       "      <th>1</th>\n",
       "      <td>NaN</td>\n",
       "      <td>7.0</td>\n",
       "      <td>12</td>\n",
       "    </tr>\n",
       "    <tr>\n",
       "      <th>2</th>\n",
       "      <td>3.0</td>\n",
       "      <td>8.0</td>\n",
       "      <td>13</td>\n",
       "    </tr>\n",
       "    <tr>\n",
       "      <th>3</th>\n",
       "      <td>4.0</td>\n",
       "      <td>NaN</td>\n",
       "      <td>14</td>\n",
       "    </tr>\n",
       "    <tr>\n",
       "      <th>4</th>\n",
       "      <td>5.0</td>\n",
       "      <td>10.0</td>\n",
       "      <td>15</td>\n",
       "    </tr>\n",
       "  </tbody>\n",
       "</table>\n",
       "</div>"
      ],
      "text/plain": [
       "     A     B   C\n",
       "0  1.0   6.0  11\n",
       "1  NaN   7.0  12\n",
       "2  3.0   8.0  13\n",
       "3  4.0   NaN  14\n",
       "4  5.0  10.0  15"
      ]
     },
     "execution_count": 1,
     "metadata": {},
     "output_type": "execute_result"
    }
   ],
   "source": [
    "import numpy as np\n",
    "import pandas as pd\n",
    "\n",
    "# サンプルのデータセットを作成\n",
    "df = pd.DataFrame(\n",
    "        {\n",
    "            'A':[1,np.nan,3,4,5],\n",
    "            'B':[6,7,8,np.nan,10],\n",
    "            'C':[11,12,13,14,15]\n",
    "        }\n",
    ")\n",
    "df"
   ]
  },
  {
   "cell_type": "code",
   "execution_count": 2,
   "metadata": {},
   "outputs": [
    {
     "data": {
      "text/html": [
       "<div>\n",
       "<style scoped>\n",
       "    .dataframe tbody tr th:only-of-type {\n",
       "        vertical-align: middle;\n",
       "    }\n",
       "\n",
       "    .dataframe tbody tr th {\n",
       "        vertical-align: top;\n",
       "    }\n",
       "\n",
       "    .dataframe thead th {\n",
       "        text-align: right;\n",
       "    }\n",
       "</style>\n",
       "<table border=\"1\" class=\"dataframe\">\n",
       "  <thead>\n",
       "    <tr style=\"text-align: right;\">\n",
       "      <th></th>\n",
       "      <th>A</th>\n",
       "      <th>B</th>\n",
       "      <th>C</th>\n",
       "    </tr>\n",
       "  </thead>\n",
       "  <tbody>\n",
       "    <tr>\n",
       "      <th>0</th>\n",
       "      <td>False</td>\n",
       "      <td>False</td>\n",
       "      <td>False</td>\n",
       "    </tr>\n",
       "    <tr>\n",
       "      <th>1</th>\n",
       "      <td>True</td>\n",
       "      <td>False</td>\n",
       "      <td>False</td>\n",
       "    </tr>\n",
       "    <tr>\n",
       "      <th>2</th>\n",
       "      <td>False</td>\n",
       "      <td>False</td>\n",
       "      <td>False</td>\n",
       "    </tr>\n",
       "    <tr>\n",
       "      <th>3</th>\n",
       "      <td>False</td>\n",
       "      <td>True</td>\n",
       "      <td>False</td>\n",
       "    </tr>\n",
       "    <tr>\n",
       "      <th>4</th>\n",
       "      <td>False</td>\n",
       "      <td>False</td>\n",
       "      <td>False</td>\n",
       "    </tr>\n",
       "  </tbody>\n",
       "</table>\n",
       "</div>"
      ],
      "text/plain": [
       "       A      B      C\n",
       "0  False  False  False\n",
       "1   True  False  False\n",
       "2  False  False  False\n",
       "3  False   True  False\n",
       "4  False  False  False"
      ]
     },
     "execution_count": 2,
     "metadata": {},
     "output_type": "execute_result"
    }
   ],
   "source": [
    "# 各要素が欠損かどうかを確かめる\n",
    "df.isnull()"
   ]
  },
  {
   "cell_type": "code",
   "execution_count": 3,
   "metadata": {},
   "outputs": [
    {
     "data": {
      "text/html": [
       "<div>\n",
       "<style scoped>\n",
       "    .dataframe tbody tr th:only-of-type {\n",
       "        vertical-align: middle;\n",
       "    }\n",
       "\n",
       "    .dataframe tbody tr th {\n",
       "        vertical-align: top;\n",
       "    }\n",
       "\n",
       "    .dataframe thead th {\n",
       "        text-align: right;\n",
       "    }\n",
       "</style>\n",
       "<table border=\"1\" class=\"dataframe\">\n",
       "  <thead>\n",
       "    <tr style=\"text-align: right;\">\n",
       "      <th></th>\n",
       "      <th>A</th>\n",
       "      <th>B</th>\n",
       "      <th>C</th>\n",
       "    </tr>\n",
       "  </thead>\n",
       "  <tbody>\n",
       "    <tr>\n",
       "      <th>0</th>\n",
       "      <td>1.0</td>\n",
       "      <td>6.0</td>\n",
       "      <td>11</td>\n",
       "    </tr>\n",
       "    <tr>\n",
       "      <th>2</th>\n",
       "      <td>3.0</td>\n",
       "      <td>8.0</td>\n",
       "      <td>13</td>\n",
       "    </tr>\n",
       "    <tr>\n",
       "      <th>4</th>\n",
       "      <td>5.0</td>\n",
       "      <td>10.0</td>\n",
       "      <td>15</td>\n",
       "    </tr>\n",
       "  </tbody>\n",
       "</table>\n",
       "</div>"
      ],
      "text/plain": [
       "     A     B   C\n",
       "0  1.0   6.0  11\n",
       "2  3.0   8.0  13\n",
       "4  5.0  10.0  15"
      ]
     },
     "execution_count": 3,
     "metadata": {},
     "output_type": "execute_result"
    }
   ],
   "source": [
    "# 欠損値の場合削除する\n",
    "df1=df.dropna()\n",
    "df1"
   ]
  },
  {
   "cell_type": "code",
   "execution_count": 7,
   "metadata": {},
   "outputs": [
    {
     "name": "stdout",
     "output_type": "stream",
     "text": [
      "Collecting scikit-learn\n",
      "  Downloading scikit_learn-1.3.0-cp311-cp311-win_amd64.whl (9.2 MB)\n",
      "                                              0.0/9.2 MB ? eta -:--:--\n",
      "     -                                        0.3/9.2 MB 5.2 MB/s eta 0:00:02\n",
      "     --                                       0.5/9.2 MB 4.9 MB/s eta 0:00:02\n",
      "     ---                                      0.9/9.2 MB 7.2 MB/s eta 0:00:02\n",
      "     -----                                    1.3/9.2 MB 6.6 MB/s eta 0:00:02\n",
      "     ------                                   1.4/9.2 MB 6.1 MB/s eta 0:00:02\n",
      "     -------                                  1.8/9.2 MB 6.2 MB/s eta 0:00:02\n",
      "     --------                                 2.0/9.2 MB 6.0 MB/s eta 0:00:02\n",
      "     ----------                               2.3/9.2 MB 6.5 MB/s eta 0:00:02\n",
      "     ----------                               2.4/9.2 MB 5.9 MB/s eta 0:00:02\n",
      "     -----------                              2.7/9.2 MB 5.7 MB/s eta 0:00:02\n",
      "     ------------                             2.9/9.2 MB 5.8 MB/s eta 0:00:02\n",
      "     --------------                           3.2/9.2 MB 5.9 MB/s eta 0:00:02\n",
      "     ---------------                          3.6/9.2 MB 6.0 MB/s eta 0:00:01\n",
      "     -----------------                        4.1/9.2 MB 6.3 MB/s eta 0:00:01\n",
      "     -------------------                      4.4/9.2 MB 6.4 MB/s eta 0:00:01\n",
      "     --------------------                     4.8/9.2 MB 6.5 MB/s eta 0:00:01\n",
      "     -----------------------                  5.3/9.2 MB 6.8 MB/s eta 0:00:01\n",
      "     -----------------------                  5.4/9.2 MB 6.8 MB/s eta 0:00:01\n",
      "     --------------------------               6.0/9.2 MB 6.8 MB/s eta 0:00:01\n",
      "     ---------------------------              6.2/9.2 MB 6.8 MB/s eta 0:00:01\n",
      "     -----------------------------            6.7/9.2 MB 6.9 MB/s eta 0:00:01\n",
      "     ------------------------------           7.0/9.2 MB 6.8 MB/s eta 0:00:01\n",
      "     -------------------------------          7.2/9.2 MB 6.7 MB/s eta 0:00:01\n",
      "     ---------------------------------        7.6/9.2 MB 6.9 MB/s eta 0:00:01\n",
      "     -----------------------------------      8.1/9.2 MB 7.0 MB/s eta 0:00:01\n",
      "     -----------------------------------      8.2/9.2 MB 7.0 MB/s eta 0:00:01\n",
      "     --------------------------------------   8.7/9.2 MB 7.0 MB/s eta 0:00:01\n",
      "     ---------------------------------------  9.0/9.2 MB 6.9 MB/s eta 0:00:01\n",
      "     ---------------------------------------  9.2/9.2 MB 7.0 MB/s eta 0:00:01\n",
      "     ---------------------------------------- 9.2/9.2 MB 6.7 MB/s eta 0:00:00\n",
      "Requirement already satisfied: numpy>=1.17.3 in c:\\users\\bai21\\appdata\\local\\packages\\pythonsoftwarefoundation.python.3.11_qbz5n2kfra8p0\\localcache\\local-packages\\python311\\site-packages (from scikit-learn) (1.25.0)\n",
      "Collecting scipy>=1.5.0 (from scikit-learn)\n",
      "  Downloading scipy-1.11.1-cp311-cp311-win_amd64.whl (44.0 MB)\n",
      "                                              0.0/44.0 MB ? eta -:--:--\n",
      "                                              0.3/44.0 MB 19.8 MB/s eta 0:00:03\n",
      "                                              0.7/44.0 MB 8.3 MB/s eta 0:00:06\n",
      "                                              0.9/44.0 MB 6.8 MB/s eta 0:00:07\n",
      "                                              1.0/44.0 MB 6.0 MB/s eta 0:00:08\n",
      "     -                                        1.4/44.0 MB 6.2 MB/s eta 0:00:07\n",
      "     -                                        1.5/44.0 MB 6.1 MB/s eta 0:00:07\n",
      "     -                                        1.8/44.0 MB 5.7 MB/s eta 0:00:08\n",
      "     -                                        2.2/44.0 MB 6.0 MB/s eta 0:00:07\n",
      "     --                                       2.4/44.0 MB 6.0 MB/s eta 0:00:07\n",
      "     --                                       2.5/44.0 MB 5.4 MB/s eta 0:00:08\n",
      "     --                                       2.8/44.0 MB 5.6 MB/s eta 0:00:08\n",
      "     --                                       3.2/44.0 MB 5.9 MB/s eta 0:00:07\n",
      "     ---                                      3.6/44.0 MB 6.1 MB/s eta 0:00:07\n",
      "     ---                                      4.0/44.0 MB 6.2 MB/s eta 0:00:07\n",
      "     ---                                      4.1/44.0 MB 5.9 MB/s eta 0:00:07\n",
      "     ---                                      4.2/44.0 MB 6.1 MB/s eta 0:00:07\n",
      "     ---                                      4.4/44.0 MB 5.6 MB/s eta 0:00:08\n",
      "     ----                                     4.7/44.0 MB 5.7 MB/s eta 0:00:07\n",
      "     ----                                     5.0/44.0 MB 5.7 MB/s eta 0:00:07\n",
      "     ----                                     5.3/44.0 MB 5.7 MB/s eta 0:00:07\n",
      "     -----                                    5.7/44.0 MB 5.8 MB/s eta 0:00:07\n",
      "     -----                                    6.1/44.0 MB 6.0 MB/s eta 0:00:07\n",
      "     -----                                    6.4/44.0 MB 6.0 MB/s eta 0:00:07\n",
      "     ------                                   6.8/44.0 MB 6.2 MB/s eta 0:00:07\n",
      "     ------                                   7.2/44.0 MB 6.2 MB/s eta 0:00:06\n",
      "     ------                                   7.6/44.0 MB 6.3 MB/s eta 0:00:06\n",
      "     -------                                  8.0/44.0 MB 6.4 MB/s eta 0:00:06\n",
      "     -------                                  8.4/44.0 MB 6.5 MB/s eta 0:00:06\n",
      "     -------                                  8.8/44.0 MB 6.5 MB/s eta 0:00:06\n",
      "     --------                                 9.2/44.0 MB 6.6 MB/s eta 0:00:06\n",
      "     --------                                 9.6/44.0 MB 6.7 MB/s eta 0:00:06\n",
      "     ---------                                10.0/44.0 MB 6.7 MB/s eta 0:00:06\n",
      "     ---------                                10.5/44.0 MB 6.7 MB/s eta 0:00:05\n",
      "     ---------                                10.8/44.0 MB 6.8 MB/s eta 0:00:05\n",
      "     ----------                               11.2/44.0 MB 6.8 MB/s eta 0:00:05\n",
      "     ----------                               11.6/44.0 MB 7.0 MB/s eta 0:00:05\n",
      "     ----------                               11.9/44.0 MB 7.3 MB/s eta 0:00:05\n",
      "     -----------                              12.5/44.0 MB 7.4 MB/s eta 0:00:05\n",
      "     -----------                              12.7/44.0 MB 7.6 MB/s eta 0:00:05\n",
      "     -----------                              12.9/44.0 MB 7.4 MB/s eta 0:00:05\n",
      "     ------------                             13.2/44.0 MB 7.4 MB/s eta 0:00:05\n",
      "     ------------                             13.6/44.0 MB 7.4 MB/s eta 0:00:05\n",
      "     ------------                             14.0/44.0 MB 7.4 MB/s eta 0:00:05\n",
      "     -------------                            14.4/44.0 MB 7.9 MB/s eta 0:00:04\n",
      "     -------------                            14.8/44.0 MB 8.0 MB/s eta 0:00:04\n",
      "     -------------                            15.1/44.0 MB 8.0 MB/s eta 0:00:04\n",
      "     -------------                            15.4/44.0 MB 8.0 MB/s eta 0:00:04\n",
      "     --------------                           15.7/44.0 MB 7.9 MB/s eta 0:00:04\n",
      "     --------------                           16.2/44.0 MB 8.0 MB/s eta 0:00:04\n",
      "     ---------------                          16.5/44.0 MB 8.1 MB/s eta 0:00:04\n",
      "     ---------------                          17.0/44.0 MB 8.1 MB/s eta 0:00:04\n",
      "     ---------------                          17.2/44.0 MB 8.0 MB/s eta 0:00:04\n",
      "     ---------------                          17.6/44.0 MB 7.9 MB/s eta 0:00:04\n",
      "     ----------------                         18.0/44.0 MB 7.9 MB/s eta 0:00:04\n",
      "     ----------------                         18.4/44.0 MB 7.9 MB/s eta 0:00:04\n",
      "     ----------------                         18.7/44.0 MB 7.9 MB/s eta 0:00:04\n",
      "     -----------------                        19.1/44.0 MB 7.9 MB/s eta 0:00:04\n",
      "     -----------------                        19.5/44.0 MB 7.9 MB/s eta 0:00:04\n",
      "     ------------------                       19.9/44.0 MB 7.9 MB/s eta 0:00:04\n",
      "     ------------------                       20.3/44.0 MB 7.9 MB/s eta 0:00:04\n",
      "     ------------------                       20.6/44.0 MB 7.8 MB/s eta 0:00:03\n",
      "     -------------------                      21.0/44.0 MB 7.8 MB/s eta 0:00:03\n",
      "     -------------------                      21.2/44.0 MB 7.6 MB/s eta 0:00:03\n",
      "     -------------------                      21.5/44.0 MB 7.7 MB/s eta 0:00:03\n",
      "     -------------------                      21.8/44.0 MB 7.6 MB/s eta 0:00:03\n",
      "     --------------------                     22.3/44.0 MB 7.6 MB/s eta 0:00:03\n",
      "     --------------------                     22.8/44.0 MB 7.7 MB/s eta 0:00:03\n",
      "     ---------------------                    23.1/44.0 MB 7.9 MB/s eta 0:00:03\n",
      "     ---------------------                    23.5/44.0 MB 8.0 MB/s eta 0:00:03\n",
      "     ---------------------                    24.0/44.0 MB 7.9 MB/s eta 0:00:03\n",
      "     ----------------------                   24.4/44.0 MB 8.0 MB/s eta 0:00:03\n",
      "     ----------------------                   24.8/44.0 MB 7.9 MB/s eta 0:00:03\n",
      "     ----------------------                   25.3/44.0 MB 8.0 MB/s eta 0:00:03\n",
      "     -----------------------                  25.6/44.0 MB 8.1 MB/s eta 0:00:03\n",
      "     -----------------------                  25.9/44.0 MB 8.2 MB/s eta 0:00:03\n",
      "     ------------------------                 26.4/44.0 MB 8.1 MB/s eta 0:00:03\n",
      "     ------------------------                 26.9/44.0 MB 8.2 MB/s eta 0:00:03\n",
      "     ------------------------                 27.2/44.0 MB 8.1 MB/s eta 0:00:03\n",
      "     -------------------------                27.6/44.0 MB 8.3 MB/s eta 0:00:02\n",
      "     -------------------------                28.2/44.0 MB 8.4 MB/s eta 0:00:02\n",
      "     --------------------------               28.6/44.0 MB 8.5 MB/s eta 0:00:02\n",
      "     --------------------------               29.1/44.0 MB 8.6 MB/s eta 0:00:02\n",
      "     --------------------------               29.5/44.0 MB 8.5 MB/s eta 0:00:02\n",
      "     ---------------------------              30.1/44.0 MB 8.7 MB/s eta 0:00:02\n",
      "     ---------------------------              30.5/44.0 MB 8.7 MB/s eta 0:00:02\n",
      "     ----------------------------             31.0/44.0 MB 8.8 MB/s eta 0:00:02\n",
      "     ----------------------------             31.3/44.0 MB 8.8 MB/s eta 0:00:02\n",
      "     ----------------------------             31.8/44.0 MB 9.2 MB/s eta 0:00:02\n",
      "     -----------------------------            32.2/44.0 MB 9.2 MB/s eta 0:00:02\n",
      "     -----------------------------            32.6/44.0 MB 9.1 MB/s eta 0:00:02\n",
      "     -----------------------------            32.9/44.0 MB 9.1 MB/s eta 0:00:02\n",
      "     ------------------------------           33.4/44.0 MB 9.1 MB/s eta 0:00:02\n",
      "     ------------------------------           33.9/44.0 MB 9.2 MB/s eta 0:00:02\n",
      "     -------------------------------          34.3/44.0 MB 9.2 MB/s eta 0:00:02\n",
      "     -------------------------------          34.8/44.0 MB 9.2 MB/s eta 0:00:01\n",
      "     --------------------------------         35.2/44.0 MB 9.4 MB/s eta 0:00:01\n",
      "     --------------------------------         35.7/44.0 MB 9.4 MB/s eta 0:00:01\n",
      "     --------------------------------         36.0/44.0 MB 9.4 MB/s eta 0:00:01\n",
      "     ---------------------------------        36.4/44.0 MB 9.2 MB/s eta 0:00:01\n",
      "     ---------------------------------        36.7/44.0 MB 9.2 MB/s eta 0:00:01\n",
      "     ---------------------------------        37.1/44.0 MB 9.1 MB/s eta 0:00:01\n",
      "     ----------------------------------       37.5/44.0 MB 9.1 MB/s eta 0:00:01\n",
      "     ----------------------------------       37.7/44.0 MB 9.0 MB/s eta 0:00:01\n",
      "     ----------------------------------       38.2/44.0 MB 9.0 MB/s eta 0:00:01\n",
      "     -----------------------------------      38.5/44.0 MB 9.0 MB/s eta 0:00:01\n",
      "     -----------------------------------      38.8/44.0 MB 8.7 MB/s eta 0:00:01\n",
      "     -----------------------------------      39.1/44.0 MB 8.6 MB/s eta 0:00:01\n",
      "     -----------------------------------      39.4/44.0 MB 8.5 MB/s eta 0:00:01\n",
      "     ------------------------------------     39.9/44.0 MB 8.6 MB/s eta 0:00:01\n",
      "     ------------------------------------     40.2/44.0 MB 8.4 MB/s eta 0:00:01\n",
      "     ------------------------------------     40.6/44.0 MB 8.4 MB/s eta 0:00:01\n",
      "     -------------------------------------    41.0/44.0 MB 8.3 MB/s eta 0:00:01\n",
      "     -------------------------------------    41.4/44.0 MB 8.3 MB/s eta 0:00:01\n",
      "     -------------------------------------    41.7/44.0 MB 8.3 MB/s eta 0:00:01\n",
      "     --------------------------------------   42.0/44.0 MB 8.2 MB/s eta 0:00:01\n",
      "     --------------------------------------   42.3/44.0 MB 8.2 MB/s eta 0:00:01\n",
      "     --------------------------------------   42.8/44.0 MB 8.2 MB/s eta 0:00:01\n",
      "     ---------------------------------------  43.1/44.0 MB 8.2 MB/s eta 0:00:01\n",
      "     ---------------------------------------  43.6/44.0 MB 8.2 MB/s eta 0:00:01\n",
      "     ---------------------------------------  43.9/44.0 MB 8.1 MB/s eta 0:00:01\n",
      "     ---------------------------------------  44.0/44.0 MB 8.0 MB/s eta 0:00:01\n",
      "     ---------------------------------------  44.0/44.0 MB 8.0 MB/s eta 0:00:01\n",
      "     ---------------------------------------  44.0/44.0 MB 8.0 MB/s eta 0:00:01\n",
      "     ---------------------------------------  44.0/44.0 MB 8.0 MB/s eta 0:00:01\n",
      "     ---------------------------------------  44.0/44.0 MB 8.0 MB/s eta 0:00:01\n",
      "     ---------------------------------------- 44.0/44.0 MB 6.6 MB/s eta 0:00:00\n",
      "Collecting joblib>=1.1.1 (from scikit-learn)\n",
      "  Downloading joblib-1.3.1-py3-none-any.whl (301 kB)\n",
      "                                              0.0/302.0 kB ? eta -:--:--\n",
      "     -------------------------------------- 302.0/302.0 kB 9.4 MB/s eta 0:00:00\n",
      "Collecting threadpoolctl>=2.0.0 (from scikit-learn)\n",
      "  Downloading threadpoolctl-3.1.0-py3-none-any.whl (14 kB)\n",
      "Installing collected packages: threadpoolctl, scipy, joblib, scikit-learn\n",
      "Successfully installed joblib-1.3.1 scikit-learn-1.3.0 scipy-1.11.1 threadpoolctl-3.1.0\n",
      "Note: you may need to restart the kernel to use updated packages.\n"
     ]
    }
   ],
   "source": [
    "pip install scikit-learn"
   ]
  },
  {
   "cell_type": "code",
   "execution_count": 14,
   "metadata": {},
   "outputs": [
    {
     "data": {
      "text/plain": [
       "array([[ 1.  ,  6.  , 11.  ],\n",
       "       [ 3.25,  7.  , 12.  ],\n",
       "       [ 3.  ,  8.  , 13.  ],\n",
       "       [ 4.  ,  7.75, 14.  ],\n",
       "       [ 5.  , 10.  , 15.  ]])"
      ]
     },
     "execution_count": 14,
     "metadata": {},
     "output_type": "execute_result"
    }
   ],
   "source": [
    "from sklearn.impute import SimpleImputer\n",
    "\n",
    "# 平均値で欠損値を補完するインスタンスを作成する\n",
    "# strategy : 欠損値を補完する方法を文字列で指定　,axis :補完する値を計算するときに使用する軸を指定、　１：行、0：列（デフォルト） \n",
    "imp = SimpleImputer(strategy ='mean')\n",
    " # 欠損値を補完する\n",
    "imp.fit(df)\n",
    "imp.transform(df)"
   ]
  },
  {
   "cell_type": "markdown",
   "metadata": {},
   "source": [
    "### カテゴリ変数のエンコーディング\n",
    "- One-hotエンコーディング\n",
    "\n",
    " - カテゴリ変数に対して行う符号化処理\n",
    "\n",
    " - 各行の該当する値の列のみ1,それ以外０"
   ]
  },
  {
   "cell_type": "code",
   "execution_count": 15,
   "metadata": {},
   "outputs": [
    {
     "data": {
      "text/html": [
       "<div>\n",
       "<style scoped>\n",
       "    .dataframe tbody tr th:only-of-type {\n",
       "        vertical-align: middle;\n",
       "    }\n",
       "\n",
       "    .dataframe tbody tr th {\n",
       "        vertical-align: top;\n",
       "    }\n",
       "\n",
       "    .dataframe thead th {\n",
       "        text-align: right;\n",
       "    }\n",
       "</style>\n",
       "<table border=\"1\" class=\"dataframe\">\n",
       "  <thead>\n",
       "    <tr style=\"text-align: right;\">\n",
       "      <th></th>\n",
       "      <th>A</th>\n",
       "      <th>B</th>\n",
       "    </tr>\n",
       "  </thead>\n",
       "  <tbody>\n",
       "    <tr>\n",
       "      <th>0</th>\n",
       "      <td>1</td>\n",
       "      <td>a</td>\n",
       "    </tr>\n",
       "    <tr>\n",
       "      <th>1</th>\n",
       "      <td>2</td>\n",
       "      <td>b</td>\n",
       "    </tr>\n",
       "    <tr>\n",
       "      <th>2</th>\n",
       "      <td>3</td>\n",
       "      <td>a</td>\n",
       "    </tr>\n",
       "    <tr>\n",
       "      <th>3</th>\n",
       "      <td>4</td>\n",
       "      <td>b</td>\n",
       "    </tr>\n",
       "    <tr>\n",
       "      <th>4</th>\n",
       "      <td>5</td>\n",
       "      <td>c</td>\n",
       "    </tr>\n",
       "  </tbody>\n",
       "</table>\n",
       "</div>"
      ],
      "text/plain": [
       "   A  B\n",
       "0  1  a\n",
       "1  2  b\n",
       "2  3  a\n",
       "3  4  b\n",
       "4  5  c"
      ]
     },
     "execution_count": 15,
     "metadata": {},
     "output_type": "execute_result"
    }
   ],
   "source": [
    "df = pd.DataFrame({\n",
    "    'A':[1,2,3,4,5],\n",
    "    'B':['a','b','a','b','c']\n",
    "})\n",
    "df"
   ]
  },
  {
   "cell_type": "code",
   "execution_count": 6,
   "metadata": {},
   "outputs": [
    {
     "data": {
      "text/plain": [
       "array([0, 1, 0, 1, 2])"
      ]
     },
     "execution_count": 6,
     "metadata": {},
     "output_type": "execute_result"
    }
   ],
   "source": [
    "from sklearn.preprocessing import LabelEncoder\n",
    "\n",
    "# ラベルエンコーディングのインスタンスを生成\n",
    "le =LabelEncoder()\n",
    "\n",
    "# ラベルのエンコーディング\n",
    "le.fit(df['B'])\n",
    "le.transform(df['B'])"
   ]
  },
  {
   "cell_type": "code",
   "execution_count": 7,
   "metadata": {},
   "outputs": [
    {
     "data": {
      "text/plain": [
       "array(['a', 'b', 'c'], dtype=object)"
      ]
     },
     "execution_count": 7,
     "metadata": {},
     "output_type": "execute_result"
    }
   ],
   "source": [
    "# 元の値を確認する\n",
    "le.classes_"
   ]
  },
  {
   "cell_type": "code",
   "execution_count": 8,
   "metadata": {},
   "outputs": [
    {
     "data": {
      "text/plain": [
       "array([[1., 0., 0., 1.],\n",
       "       [0., 1., 0., 2.],\n",
       "       [1., 0., 0., 3.],\n",
       "       [0., 1., 0., 4.],\n",
       "       [0., 0., 1., 5.]])"
      ]
     },
     "execution_count": 8,
     "metadata": {},
     "output_type": "execute_result"
    }
   ],
   "source": [
    "from sklearn.preprocessing import LabelEncoder,OneHotEncoder\n",
    "\n",
    "# DataFrameをコピー\n",
    "df_one = df.copy()\n",
    "# ラベルエンコーダのインスタンス化\n",
    "le =LabelEncoder()\n",
    "\n",
    "# 英語のabcを１２３に変更\n",
    "df_one['B'] = le.fit_transform(df['B'])\n",
    "\n",
    "# One-hotエンコーディングのインスタンス化\n",
    "# categorical_features ： 変換する列の番号（リスト型）\n",
    "one = OneHotEncoder(categorical_features=[1])\n",
    "# One-hotエンコーディング\n",
    "# fit_transformの返した疎行列をNumｐｙ配列に変換するのは toarray()\n",
    "one.fit_transform(df_one).toarray()\n"
   ]
  },
  {
   "cell_type": "markdown",
   "metadata": {},
   "source": [
    "### 特徴量の正規化\n",
    "- 特徴量の大きさを揃える処理\n",
    "- 分散正規化\n",
    " - 特徴量の平均は０、標準偏差が1となるように特徴量を変換する処理<span style=\"color: red; \">←模擬試験1_4-4 ①</span>\n",
    "- 最小最大正規化\n",
    " - 特徴量の最小値が０、最大値が１をとるように特徴量を正規化する処理"
   ]
  },
  {
   "cell_type": "code",
   "execution_count": 9,
   "metadata": {},
   "outputs": [
    {
     "data": {
      "text/html": [
       "<div>\n",
       "<style scoped>\n",
       "    .dataframe tbody tr th:only-of-type {\n",
       "        vertical-align: middle;\n",
       "    }\n",
       "\n",
       "    .dataframe tbody tr th {\n",
       "        vertical-align: top;\n",
       "    }\n",
       "\n",
       "    .dataframe thead th {\n",
       "        text-align: right;\n",
       "    }\n",
       "</style>\n",
       "<table border=\"1\" class=\"dataframe\">\n",
       "  <thead>\n",
       "    <tr style=\"text-align: right;\">\n",
       "      <th></th>\n",
       "      <th>A</th>\n",
       "      <th>B</th>\n",
       "    </tr>\n",
       "  </thead>\n",
       "  <tbody>\n",
       "    <tr>\n",
       "      <th>0</th>\n",
       "      <td>1</td>\n",
       "      <td>100</td>\n",
       "    </tr>\n",
       "    <tr>\n",
       "      <th>1</th>\n",
       "      <td>2</td>\n",
       "      <td>200</td>\n",
       "    </tr>\n",
       "    <tr>\n",
       "      <th>2</th>\n",
       "      <td>3</td>\n",
       "      <td>400</td>\n",
       "    </tr>\n",
       "    <tr>\n",
       "      <th>3</th>\n",
       "      <td>4</td>\n",
       "      <td>500</td>\n",
       "    </tr>\n",
       "    <tr>\n",
       "      <th>4</th>\n",
       "      <td>5</td>\n",
       "      <td>800</td>\n",
       "    </tr>\n",
       "  </tbody>\n",
       "</table>\n",
       "</div>"
      ],
      "text/plain": [
       "   A    B\n",
       "0  1  100\n",
       "1  2  200\n",
       "2  3  400\n",
       "3  4  500\n",
       "4  5  800"
      ]
     },
     "execution_count": 9,
     "metadata": {},
     "output_type": "execute_result"
    }
   ],
   "source": [
    "# DataFrameデータを生成\n",
    "df = pd.DataFrame({\n",
    "    'A':[1,2,3,4,5],\n",
    "    'B':[100,200,400,500,800]\n",
    "})\n",
    "df"
   ]
  },
  {
   "cell_type": "code",
   "execution_count": 11,
   "metadata": {},
   "outputs": [
    {
     "data": {
      "text/plain": [
       "array([[-1.41421356, -1.22474487],\n",
       "       [-0.70710678, -0.81649658],\n",
       "       [ 0.        ,  0.        ],\n",
       "       [ 0.70710678,  0.40824829],\n",
       "       [ 1.41421356,  1.63299316]])"
      ]
     },
     "execution_count": 11,
     "metadata": {},
     "output_type": "execute_result"
    }
   ],
   "source": [
    "from sklearn.preprocessing import StandardScaler\n",
    "\n",
    "# 分散正規化のインスタンスを生成\n",
    "stdsc =StandardScaler()\n",
    "\n",
    "# 分散正規化を実行\n",
    "stdsc.fit(df)\n",
    "stdsc.transform(df)"
   ]
  },
  {
   "cell_type": "code",
   "execution_count": 12,
   "metadata": {},
   "outputs": [
    {
     "data": {
      "text/plain": [
       "array([[0.        , 0.        ],\n",
       "       [0.25      , 0.14285714],\n",
       "       [0.5       , 0.42857143],\n",
       "       [0.75      , 0.57142857],\n",
       "       [1.        , 1.        ]])"
      ]
     },
     "execution_count": 12,
     "metadata": {},
     "output_type": "execute_result"
    }
   ],
   "source": [
    "from sklearn.preprocessing import MinMaxScaler\n",
    "\n",
    "# 最小最大正規化のインスタンスを生成\n",
    "mmsc = MinMaxScaler()\n",
    "\n",
    "# 最小最大正規化を実行\n",
    "mmsc.fit(df)\n",
    "mmsc.transform(df)"
   ]
  },
  {
   "cell_type": "code",
   "execution_count": null,
   "metadata": {},
   "outputs": [],
   "source": []
  }
 ],
 "metadata": {
  "kernelspec": {
   "display_name": "Python 3",
   "language": "python",
   "name": "python3"
  },
  "language_info": {
   "codemirror_mode": {
    "name": "ipython",
    "version": 3
   },
   "file_extension": ".py",
   "mimetype": "text/x-python",
   "name": "python",
   "nbconvert_exporter": "python",
   "pygments_lexer": "ipython3",
   "version": "3.11.4"
  }
 },
 "nbformat": 4,
 "nbformat_minor": 2
}
